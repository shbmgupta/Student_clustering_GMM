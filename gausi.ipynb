{
  "nbformat": 4,
  "nbformat_minor": 0,
  "metadata": {
    "colab": {
      "name": "gausi.ipynb",
      "version": "0.3.2",
      "provenance": [],
      "collapsed_sections": [],
      "include_colab_link": true
    },
    "kernelspec": {
      "name": "python3",
      "display_name": "Python 3"
    }
  },
  "cells": [
    {
      "cell_type": "markdown",
      "metadata": {
        "id": "view-in-github",
        "colab_type": "text"
      },
      "source": [
        "<a href=\"https://colab.research.google.com/github/shub29shub/Student_clustering_GMM/blob/master/gausi.ipynb\" target=\"_parent\"><img src=\"https://colab.research.google.com/assets/colab-badge.svg\" alt=\"Open In Colab\"/></a>"
      ]
    },
    {
      "metadata": {
        "id": "3sqfXpmmLotf",
        "colab_type": "code",
        "colab": {}
      },
      "cell_type": "code",
      "source": [
        "import numpy as np\n",
        "import pandas as pd\n",
        "import matplotlib.pyplot as plt"
      ],
      "execution_count": 0,
      "outputs": []
    },
    {
      "metadata": {
        "id": "4HP0pd-ZMhat",
        "colab_type": "code",
        "colab": {}
      },
      "cell_type": "code",
      "source": [
        "from pandas import DataFrame\n",
        "from sklearn import datasets\n",
        "from sklearn.mixture import GaussianMixture\n"
      ],
      "execution_count": 0,
      "outputs": []
    },
    {
      "metadata": {
        "id": "pG_Fth6-NBdx",
        "colab_type": "code",
        "colab": {}
      },
      "cell_type": "code",
      "source": [
        "iris = datasets.load_iris()\n",
        "# print(iris)\n"
      ],
      "execution_count": 0,
      "outputs": []
    },
    {
      "metadata": {
        "id": "TerHinBwOw_Q",
        "colab_type": "code",
        "outputId": "37fe9f73-c701-4973-c6a4-4eeda614e390",
        "colab": {
          "base_uri": "https://localhost:8080/",
          "height": 1453
        }
      },
      "cell_type": "code",
      "source": [
        "X = iris.data[:] \n",
        "# print(X)\n",
        "d = pd.DataFrame(X) \n",
        "print(d)\n",
        "plt.scatter(d[0], d[1],d[2],d[3]) "
      ],
      "execution_count": 15,
      "outputs": [
        {
          "output_type": "stream",
          "text": [
            "       0    1    2    3\n",
            "0    5.1  3.5  1.4  0.2\n",
            "1    4.9  3.0  1.4  0.2\n",
            "2    4.7  3.2  1.3  0.2\n",
            "3    4.6  3.1  1.5  0.2\n",
            "4    5.0  3.6  1.4  0.2\n",
            "5    5.4  3.9  1.7  0.4\n",
            "6    4.6  3.4  1.4  0.3\n",
            "7    5.0  3.4  1.5  0.2\n",
            "8    4.4  2.9  1.4  0.2\n",
            "9    4.9  3.1  1.5  0.1\n",
            "10   5.4  3.7  1.5  0.2\n",
            "11   4.8  3.4  1.6  0.2\n",
            "12   4.8  3.0  1.4  0.1\n",
            "13   4.3  3.0  1.1  0.1\n",
            "14   5.8  4.0  1.2  0.2\n",
            "15   5.7  4.4  1.5  0.4\n",
            "16   5.4  3.9  1.3  0.4\n",
            "17   5.1  3.5  1.4  0.3\n",
            "18   5.7  3.8  1.7  0.3\n",
            "19   5.1  3.8  1.5  0.3\n",
            "20   5.4  3.4  1.7  0.2\n",
            "21   5.1  3.7  1.5  0.4\n",
            "22   4.6  3.6  1.0  0.2\n",
            "23   5.1  3.3  1.7  0.5\n",
            "24   4.8  3.4  1.9  0.2\n",
            "25   5.0  3.0  1.6  0.2\n",
            "26   5.0  3.4  1.6  0.4\n",
            "27   5.2  3.5  1.5  0.2\n",
            "28   5.2  3.4  1.4  0.2\n",
            "29   4.7  3.2  1.6  0.2\n",
            "..   ...  ...  ...  ...\n",
            "120  6.9  3.2  5.7  2.3\n",
            "121  5.6  2.8  4.9  2.0\n",
            "122  7.7  2.8  6.7  2.0\n",
            "123  6.3  2.7  4.9  1.8\n",
            "124  6.7  3.3  5.7  2.1\n",
            "125  7.2  3.2  6.0  1.8\n",
            "126  6.2  2.8  4.8  1.8\n",
            "127  6.1  3.0  4.9  1.8\n",
            "128  6.4  2.8  5.6  2.1\n",
            "129  7.2  3.0  5.8  1.6\n",
            "130  7.4  2.8  6.1  1.9\n",
            "131  7.9  3.8  6.4  2.0\n",
            "132  6.4  2.8  5.6  2.2\n",
            "133  6.3  2.8  5.1  1.5\n",
            "134  6.1  2.6  5.6  1.4\n",
            "135  7.7  3.0  6.1  2.3\n",
            "136  6.3  3.4  5.6  2.4\n",
            "137  6.4  3.1  5.5  1.8\n",
            "138  6.0  3.0  4.8  1.8\n",
            "139  6.9  3.1  5.4  2.1\n",
            "140  6.7  3.1  5.6  2.4\n",
            "141  6.9  3.1  5.1  2.3\n",
            "142  5.8  2.7  5.1  1.9\n",
            "143  6.8  3.2  5.9  2.3\n",
            "144  6.7  3.3  5.7  2.5\n",
            "145  6.7  3.0  5.2  2.3\n",
            "146  6.3  2.5  5.0  1.9\n",
            "147  6.5  3.0  5.2  2.0\n",
            "148  6.2  3.4  5.4  2.3\n",
            "149  5.9  3.0  5.1  1.8\n",
            "\n",
            "[150 rows x 4 columns]\n"
          ],
          "name": "stdout"
        },
        {
          "output_type": "execute_result",
          "data": {
            "text/plain": [
              "<matplotlib.collections.PathCollection at 0x7f33800d3780>"
            ]
          },
          "metadata": {
            "tags": []
          },
          "execution_count": 15
        },
        {
          "output_type": "display_data",
          "data": {
            "image/png": "[encoded data removed]",
            "text/plain": [
              "<Figure size 576x396 with 1 Axes>"
            ]
          },
          "metadata": {
            "tags": []
          }
        }
      ]
    },
    {
      "metadata": {
        "id": "t2pUdNiGPBbj",
        "colab_type": "code",
        "outputId": "35affded-f367-479e-9b57-5dcd9c307733",
        "colab": {
          "base_uri": "https://localhost:8080/",
          "height": 85
        }
      },
      "cell_type": "code",
      "source": [
        "gmm = GaussianMixture(n_components = 3) \n",
        "gmm.fit(d) "
      ],
      "execution_count": 0,
      "outputs": [
        {
          "output_type": "execute_result",
          "data": {
            "text/plain": [
              "GaussianMixture(covariance_type='full', init_params='kmeans', max_iter=100,\n",
              "        means_init=None, n_components=3, n_init=1, precisions_init=None,\n",
              "        random_state=None, reg_covar=1e-06, tol=0.001, verbose=0,\n",
              "        verbose_interval=10, warm_start=False, weights_init=None)"
            ]
          },
          "metadata": {
            "tags": []
          },
          "execution_count": 25
        }
      ]
    },
    {
      "metadata": {
        "id": "dHSW_HchPspD",
        "colab_type": "code",
        "outputId": "8f446913-05d3-465b-f09e-19a0a6f2407c",
        "colab": {
          "base_uri": "https://localhost:8080/",
          "height": 466
        }
      },
      "cell_type": "code",
      "source": [
        "labels = gmm.predict(d)\n",
        "print(labels)\n",
        "d['labels']= labels\n",
        "d0 = d[d['labels']== 0] \n",
        "d1 = d[d['labels']== 1] \n",
        "d2 = d[d['labels']== 2] \n",
        "  \n",
        "# plot three clusters in same plot \n",
        "plt.scatter(d0[0], d0[1],d0[2], c ='r') \n",
        "plt.scatter(d1[0], d1[1],d1[2], c ='yellow') \n",
        "plt.scatter(d2[0], d2[1],d2[2], c ='g') \n",
        "\n",
        "print(gmm.lower_bound_) \n",
        "print(gmm.n_iter_)"
      ],
      "execution_count": 0,
      "outputs": [
        {
          "output_type": "stream",
          "text": [
            "[0 0 0 0 0 0 0 0 0 0 0 0 0 0 0 0 0 0 0 0 0 0 0 0 0 0 0 0 0 0 0 0 0 0 0 0 0\n",
            " 0 0 0 0 0 0 0 0 0 0 0 0 0 2 2 2 2 2 2 2 2 2 2 2 2 2 2 2 2 2 2 1 2 1 2 1 2\n",
            " 2 2 2 1 2 2 2 2 2 1 2 2 2 2 2 2 2 2 2 2 2 2 2 2 2 2 1 1 1 1 1 1 1 1 1 1 1\n",
            " 1 1 1 1 1 1 1 1 1 1 1 1 1 1 1 1 1 1 1 1 1 1 1 1 1 1 1 1 1 1 1 1 1 1 1 1 1\n",
            " 1 1]\n",
            "-1.2014746139064725\n",
            "17\n"
          ],
          "name": "stdout"
        },
        {
          "output_type": "display_data",
          "data": {
            "image/png": "[encoded data removed]",
            "text/plain": [
              "<Figure size 576x396 with 1 Axes>"
            ]
          },
          "metadata": {
            "tags": []
          }
        }
      ]
    }
  ]
}